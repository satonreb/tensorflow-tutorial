{
 "cells": [
  {
   "cell_type": "markdown",
   "metadata": {
    "colab_type": "text",
    "id": "D7tqLMoKF6uq"
   },
   "source": [
    "Deep Learning\n",
    "=============\n",
    "\n",
    "Assignment 5\n",
    "------------\n",
    "\n",
    "The goal of this assignment is to train a Word2Vec skip-gram model over [Text8](http://mattmahoney.net/dc/textdata) data."
   ]
  },
  {
   "cell_type": "code",
   "execution_count": 1,
   "metadata": {
    "cellView": "both",
    "colab": {
     "autoexec": {
      "startup": false,
      "wait_interval": 0
     }
    },
    "colab_type": "code",
    "collapsed": true,
    "id": "0K1ZyLn04QZf"
   },
   "outputs": [],
   "source": [
    "# These are all the modules we'll be using later. Make sure you can import them\n",
    "# before proceeding further.\n",
    "%matplotlib inline\n",
    "from __future__ import print_function\n",
    "import collections\n",
    "import math\n",
    "import numpy as np\n",
    "import os\n",
    "import random\n",
    "import tensorflow as tf\n",
    "import zipfile\n",
    "from matplotlib import pylab\n",
    "from six.moves import range\n",
    "from six.moves.urllib.request import urlretrieve\n",
    "from sklearn.manifold import TSNE"
   ]
  },
  {
   "cell_type": "markdown",
   "metadata": {
    "colab_type": "text",
    "id": "aCjPJE944bkV"
   },
   "source": [
    "Download the data from the source website if necessary."
   ]
  },
  {
   "cell_type": "code",
   "execution_count": 2,
   "metadata": {
    "cellView": "both",
    "colab": {
     "autoexec": {
      "startup": false,
      "wait_interval": 0
     },
     "output_extras": [
      {
       "item_id": 1
      }
     ]
    },
    "colab_type": "code",
    "executionInfo": {
     "elapsed": 14640,
     "status": "ok",
     "timestamp": 1445964482948,
     "user": {
      "color": "#1FA15D",
      "displayName": "Vincent Vanhoucke",
      "isAnonymous": false,
      "isMe": true,
      "permissionId": "05076109866853157986",
      "photoUrl": "//lh6.googleusercontent.com/-cCJa7dTDcgQ/AAAAAAAAAAI/AAAAAAAACgw/r2EZ_8oYer4/s50-c-k-no/photo.jpg",
      "sessionId": "2f1ffade4c9f20de",
      "userId": "102167687554210253930"
     },
     "user_tz": 420
    },
    "id": "RJ-o3UBUFtCw",
    "outputId": "c4ec222c-80b5-4298-e635-93ca9f79c3b7"
   },
   "outputs": [
    {
     "name": "stdout",
     "output_type": "stream",
     "text": [
      "Found and verified text8.zip\n"
     ]
    }
   ],
   "source": [
    "url = 'http://mattmahoney.net/dc/'\n",
    "\n",
    "def maybe_download(filename, expected_bytes):\n",
    "  \"\"\"Download a file if not present, and make sure it's the right size.\"\"\"\n",
    "  if not os.path.exists(filename):\n",
    "    filename, _ = urlretrieve(url + filename, filename)\n",
    "  statinfo = os.stat(filename)\n",
    "  if statinfo.st_size == expected_bytes:\n",
    "    print('Found and verified %s' % filename)\n",
    "  else:\n",
    "    print(statinfo.st_size)\n",
    "    raise Exception(\n",
    "      'Failed to verify ' + filename + '. Can you get to it with a browser?')\n",
    "  return filename\n",
    "\n",
    "filename = maybe_download('text8.zip', 31344016)"
   ]
  },
  {
   "cell_type": "markdown",
   "metadata": {
    "colab_type": "text",
    "id": "Zqz3XiqI4mZT"
   },
   "source": [
    "Read the data into a string."
   ]
  },
  {
   "cell_type": "code",
   "execution_count": 3,
   "metadata": {
    "cellView": "both",
    "colab": {
     "autoexec": {
      "startup": false,
      "wait_interval": 0
     },
     "output_extras": [
      {
       "item_id": 1
      }
     ]
    },
    "colab_type": "code",
    "executionInfo": {
     "elapsed": 28844,
     "status": "ok",
     "timestamp": 1445964497165,
     "user": {
      "color": "#1FA15D",
      "displayName": "Vincent Vanhoucke",
      "isAnonymous": false,
      "isMe": true,
      "permissionId": "05076109866853157986",
      "photoUrl": "//lh6.googleusercontent.com/-cCJa7dTDcgQ/AAAAAAAAAAI/AAAAAAAACgw/r2EZ_8oYer4/s50-c-k-no/photo.jpg",
      "sessionId": "2f1ffade4c9f20de",
      "userId": "102167687554210253930"
     },
     "user_tz": 420
    },
    "id": "Mvf09fjugFU_",
    "outputId": "e3a928b4-1645-4fe8-be17-fcf47de5716d"
   },
   "outputs": [
    {
     "name": "stdout",
     "output_type": "stream",
     "text": [
      "Data size 17005207\n"
     ]
    }
   ],
   "source": [
    "def read_data(filename):\n",
    "  \"\"\"Extract the first file enclosed in a zip file as a list of words\"\"\"\n",
    "  with zipfile.ZipFile(filename) as f:\n",
    "    data = tf.compat.as_str(f.read(f.namelist()[0])).split()\n",
    "  return data\n",
    "  \n",
    "words = read_data(filename)\n",
    "print('Data size %d' % len(words))"
   ]
  },
  {
   "cell_type": "code",
   "execution_count": null,
   "metadata": {},
   "outputs": [],
   "source": [
    "words[:21]"
   ]
  },
  {
   "cell_type": "markdown",
   "metadata": {
    "colab_type": "text",
    "id": "Zdw6i4F8glpp"
   },
   "source": [
    "Build the dictionary and replace rare words with UNK token."
   ]
  },
  {
   "cell_type": "code",
   "execution_count": 4,
   "metadata": {
    "cellView": "both",
    "colab": {
     "autoexec": {
      "startup": false,
      "wait_interval": 0
     },
     "output_extras": [
      {
       "item_id": 1
      }
     ]
    },
    "colab_type": "code",
    "executionInfo": {
     "elapsed": 28849,
     "status": "ok",
     "timestamp": 1445964497178,
     "user": {
      "color": "#1FA15D",
      "displayName": "Vincent Vanhoucke",
      "isAnonymous": false,
      "isMe": true,
      "permissionId": "05076109866853157986",
      "photoUrl": "//lh6.googleusercontent.com/-cCJa7dTDcgQ/AAAAAAAAAAI/AAAAAAAACgw/r2EZ_8oYer4/s50-c-k-no/photo.jpg",
      "sessionId": "2f1ffade4c9f20de",
      "userId": "102167687554210253930"
     },
     "user_tz": 420
    },
    "id": "gAL1EECXeZsD",
    "outputId": "3fb4ecd1-df67-44b6-a2dc-2291730970b2"
   },
   "outputs": [
    {
     "name": "stdout",
     "output_type": "stream",
     "text": [
      "Most common words (+UNK) [['UNK', 418391], ('the', 1061396), ('of', 593677), ('and', 416629), ('one', 411764)]\n",
      "Sample data [5234, 3081, 12, 6, 195, 2, 3134, 46, 59, 156]\n"
     ]
    }
   ],
   "source": [
    "vocabulary_size = 50000\n",
    "\n",
    "def build_dataset(words):\n",
    "  count = [['UNK', -1]]\n",
    "  count.extend(collections.Counter(words).most_common(vocabulary_size - 1))\n",
    "  dictionary = dict()\n",
    "  for word, _ in count:\n",
    "    dictionary[word] = len(dictionary)\n",
    "  data = list()\n",
    "  unk_count = 0\n",
    "  for word in words:\n",
    "    if word in dictionary:\n",
    "      index = dictionary[word]\n",
    "    else:\n",
    "      index = 0  # dictionary['UNK']\n",
    "      unk_count = unk_count + 1\n",
    "    data.append(index)\n",
    "  count[0][1] = unk_count\n",
    "  reverse_dictionary = dict(zip(dictionary.values(), dictionary.keys())) \n",
    "  return data, count, dictionary, reverse_dictionary\n",
    "\n",
    "data, count, dictionary, reverse_dictionary = build_dataset(words)\n",
    "print('Most common words (+UNK)', count[:5])\n",
    "print('Sample data', data[:10])\n",
    "del words  # Hint to reduce memory."
   ]
  },
  {
   "cell_type": "markdown",
   "metadata": {
    "colab_type": "text",
    "id": "lFwoyygOmWsL"
   },
   "source": [
    "Function to generate a training batch for the skip-gram model."
   ]
  },
  {
   "cell_type": "code",
   "execution_count": 37,
   "metadata": {
    "cellView": "both",
    "colab": {
     "autoexec": {
      "startup": false,
      "wait_interval": 0
     },
     "output_extras": [
      {
       "item_id": 1
      }
     ]
    },
    "colab_type": "code",
    "executionInfo": {
     "elapsed": 113,
     "status": "ok",
     "timestamp": 1445964901989,
     "user": {
      "color": "#1FA15D",
      "displayName": "Vincent Vanhoucke",
      "isAnonymous": false,
      "isMe": true,
      "permissionId": "05076109866853157986",
      "photoUrl": "//lh6.googleusercontent.com/-cCJa7dTDcgQ/AAAAAAAAAAI/AAAAAAAACgw/r2EZ_8oYer4/s50-c-k-no/photo.jpg",
      "sessionId": "2f1ffade4c9f20de",
      "userId": "102167687554210253930"
     },
     "user_tz": 420
    },
    "id": "w9APjA-zmfjV",
    "outputId": "67cccb02-cdaf-4e47-d489-43bcc8d57bb8"
   },
   "outputs": [
    {
     "name": "stdout",
     "output_type": "stream",
     "text": [
      "data: ['anarchism', 'originated', 'as', 'a', 'term', 'of', 'abuse', 'first']\n",
      "\n",
      "with num_skips = 2 and skip_window = 1:\n",
      "    batch: ['originated', 'originated', 'as', 'as', 'a', 'a', 'term', 'term']\n",
      "    labels: ['as', 'anarchism', 'a', 'originated', 'term', 'as', 'a', 'of']\n",
      "\n",
      "with num_skips = 4 and skip_window = 2:\n",
      "    batch: ['as', 'as', 'as', 'as', 'a', 'a', 'a', 'a']\n",
      "    labels: ['anarchism', 'term', 'a', 'originated', 'originated', 'of', 'term', 'as']\n"
     ]
    }
   ],
   "source": [
    "data_index = 0\n",
    "\n",
    "def generate_batch(batch_size, num_skips, skip_window):\n",
    "  global data_index\n",
    "  assert batch_size % num_skips == 0\n",
    "  assert num_skips <= 2 * skip_window\n",
    "  batch = np.ndarray(shape=(batch_size), dtype=np.int32)\n",
    "  labels = np.ndarray(shape=(batch_size, 1), dtype=np.int32)\n",
    "  span = 2 * skip_window + 1 # [ skip_window target skip_window ]\n",
    "  buffer = collections.deque(maxlen=span)\n",
    "  for _ in range(span):\n",
    "    buffer.append(data[data_index])\n",
    "    data_index = (data_index + 1) % len(data)\n",
    "  for i in range(batch_size // num_skips):\n",
    "    target = skip_window  # target label at the center of the buffer\n",
    "    targets_to_avoid = [ skip_window ]\n",
    "    for j in range(num_skips):\n",
    "      while target in targets_to_avoid:\n",
    "        target = random.randint(0, span - 1)\n",
    "      targets_to_avoid.append(target)\n",
    "      batch[i * num_skips + j] = buffer[skip_window]\n",
    "      labels[i * num_skips + j, 0] = buffer[target]\n",
    "    buffer.append(data[data_index])\n",
    "    data_index = (data_index + 1) % len(data)\n",
    "  return batch, labels\n",
    "\n",
    "print('data:', [reverse_dictionary[di] for di in data[:8]])\n",
    "\n",
    "for num_skips, skip_window in [(2, 1), (4, 2)]:\n",
    "    data_index = 0\n",
    "    batch, labels = generate_batch(batch_size=8, num_skips=num_skips, skip_window=skip_window)\n",
    "    print('\\nwith num_skips = %d and skip_window = %d:' % (num_skips, skip_window))\n",
    "    print('    batch:', [reverse_dictionary[bi] for bi in batch])\n",
    "    print('    labels:', [reverse_dictionary[li] for li in labels.reshape(8)])"
   ]
  },
  {
   "cell_type": "markdown",
   "metadata": {
    "colab_type": "text",
    "id": "Ofd1MbBuwiva"
   },
   "source": [
    "Train a skip-gram model."
   ]
  },
  {
   "cell_type": "code",
   "execution_count": null,
   "metadata": {
    "cellView": "both",
    "colab": {
     "autoexec": {
      "startup": false,
      "wait_interval": 0
     }
    },
    "colab_type": "code",
    "collapsed": true,
    "id": "8pQKsV4Vwlzy"
   },
   "outputs": [],
   "source": [
    "batch_size = 128\n",
    "embedding_size = 128 # Dimension of the embedding vector.\n",
    "skip_window = 1 # How many words to consider left and right.\n",
    "num_skips = 2 # How many times to reuse an input to generate a label.\n",
    "# We pick a random validation set to sample nearest neighbors. here we limit the\n",
    "# validation samples to the words that have a low numeric ID, which by\n",
    "# construction are also the most frequent. \n",
    "valid_size = 16 # Random set of words to evaluate similarity on.\n",
    "valid_window = 100 # Only pick dev samples in the head of the distribution.\n",
    "valid_examples = np.array(random.sample(range(valid_window), valid_size))\n",
    "num_sampled = 64 # Number of negative examples to sample.\n",
    "\n",
    "graph = tf.Graph()\n",
    "\n",
    "with graph.as_default(), tf.device('/cpu:0'):\n",
    "\n",
    "  # Input data.\n",
    "  train_dataset = tf.placeholder(tf.int32, shape=[batch_size])\n",
    "  train_labels = tf.placeholder(tf.int32, shape=[batch_size, 1])\n",
    "  valid_dataset = tf.constant(valid_examples, dtype=tf.int32)\n",
    "  \n",
    "  # Variables.\n",
    "  embeddings = tf.Variable(tf.random_uniform([vocabulary_size, embedding_size], -1.0, 1.0)) \n",
    "  softmax_weights = tf.Variable(tf.truncated_normal([vocabulary_size, embedding_size], stddev=1.0 / math.sqrt(embedding_size)))\n",
    "  softmax_biases = tf.Variable(tf.zeros([vocabulary_size]))\n",
    "  \n",
    "  # Model.\n",
    "  # Look up embeddings for inputs.\n",
    "  embed = tf.nn.embedding_lookup(embeddings, train_dataset)\n",
    "  # Compute the softmax loss, using a sample of the negative labels each time.\n",
    "  loss = tf.reduce_mean(tf.nn.sampled_softmax_loss(weights=softmax_weights, biases=softmax_biases, inputs=embed, labels=train_labels, num_sampled=num_sampled, num_classes=vocabulary_size))\n",
    "\n",
    "  # Optimizer.\n",
    "  # Note: The optimizer will optimize the softmax_weights AND the embeddings.\n",
    "  # This is because the embeddings are defined as a variable quantity and the\n",
    "  # optimizer's `minimize` method will by default modify all variable quantities \n",
    "  # that contribute to the tensor it is passed.\n",
    "  # See docs on `tf.train.Optimizer.minimize()` for more details.\n",
    "  optimizer = tf.train.AdagradOptimizer(1.0).minimize(loss)\n",
    "  \n",
    "  # Compute the similarity between minibatch examples and all embeddings.\n",
    "  # We use the cosine distance:\n",
    "  norm = tf.sqrt(tf.reduce_sum(tf.square(embeddings), 1, keep_dims=True))\n",
    "  normalized_embeddings = embeddings / norm\n",
    "  valid_embeddings = tf.nn.embedding_lookup(normalized_embeddings, valid_dataset)\n",
    "  similarity = tf.matmul(valid_embeddings, tf.transpose(normalized_embeddings))"
   ]
  },
  {
   "cell_type": "code",
   "execution_count": null,
   "metadata": {
    "cellView": "both",
    "colab": {
     "autoexec": {
      "startup": false,
      "wait_interval": 0
     },
     "output_extras": [
      {
       "item_id": 23
      },
      {
       "item_id": 48
      },
      {
       "item_id": 61
      }
     ]
    },
    "colab_type": "code",
    "executionInfo": {
     "elapsed": 436189,
     "status": "ok",
     "timestamp": 1445965429787,
     "user": {
      "color": "#1FA15D",
      "displayName": "Vincent Vanhoucke",
      "isAnonymous": false,
      "isMe": true,
      "permissionId": "05076109866853157986",
      "photoUrl": "//lh6.googleusercontent.com/-cCJa7dTDcgQ/AAAAAAAAAAI/AAAAAAAACgw/r2EZ_8oYer4/s50-c-k-no/photo.jpg",
      "sessionId": "2f1ffade4c9f20de",
      "userId": "102167687554210253930"
     },
     "user_tz": 420
    },
    "id": "1bQFGceBxrWW",
    "outputId": "5ebd6d9a-33c6-4bcd-bf6d-252b0b6055e4"
   },
   "outputs": [],
   "source": [
    "num_steps = 100001\n",
    "\n",
    "with tf.Session(graph=graph) as session:\n",
    "  tf.global_variables_initializer().run()\n",
    "  print('Initialized')\n",
    "  average_loss = 0\n",
    "  for step in range(num_steps):\n",
    "    batch_data, batch_labels = generate_batch(batch_size, num_skips, skip_window)\n",
    "    feed_dict = {train_dataset : batch_data, train_labels : batch_labels}\n",
    "    _, l = session.run([optimizer, loss], feed_dict=feed_dict)\n",
    "    average_loss += l\n",
    "    if step % 2000 == 0:\n",
    "      if step > 0:\n",
    "        average_loss = average_loss / 2000\n",
    "      # The average loss is an estimate of the loss over the last 2000 batches.\n",
    "      print('Average loss at step %d: %f' % (step, average_loss))\n",
    "      average_loss = 0\n",
    "    # note that this is expensive (~20% slowdown if computed every 500 steps)\n",
    "    if step % 10000 == 0:\n",
    "      sim = similarity.eval()\n",
    "      for i in range(valid_size):\n",
    "        valid_word = reverse_dictionary[valid_examples[i]]\n",
    "        top_k = 8 # number of nearest neighbors\n",
    "        nearest = (-sim[i, :]).argsort()[1:top_k+1]\n",
    "        log = 'Nearest to %s:' % valid_word\n",
    "        for k in range(top_k):\n",
    "          close_word = reverse_dictionary[nearest[k]]\n",
    "          log = '%s %s,' % (log, close_word)\n",
    "        print(log)\n",
    "  final_embeddings = normalized_embeddings.eval()"
   ]
  },
  {
   "cell_type": "code",
   "execution_count": null,
   "metadata": {
    "cellView": "both",
    "colab": {
     "autoexec": {
      "startup": false,
      "wait_interval": 0
     }
    },
    "colab_type": "code",
    "collapsed": true,
    "id": "jjJXYA_XzV79"
   },
   "outputs": [],
   "source": [
    "num_points = 400\n",
    "\n",
    "tsne = TSNE(perplexity=30, n_components=2, init='pca', n_iter=5000, method='exact')\n",
    "two_d_embeddings = tsne.fit_transform(final_embeddings[1:num_points+1, :])"
   ]
  },
  {
   "cell_type": "code",
   "execution_count": null,
   "metadata": {
    "cellView": "both",
    "colab": {
     "autoexec": {
      "startup": false,
      "wait_interval": 0
     },
     "output_extras": [
      {
       "item_id": 1
      }
     ]
    },
    "colab_type": "code",
    "collapsed": true,
    "executionInfo": {
     "elapsed": 4763,
     "status": "ok",
     "timestamp": 1445965465525,
     "user": {
      "color": "#1FA15D",
      "displayName": "Vincent Vanhoucke",
      "isAnonymous": false,
      "isMe": true,
      "permissionId": "05076109866853157986",
      "photoUrl": "//lh6.googleusercontent.com/-cCJa7dTDcgQ/AAAAAAAAAAI/AAAAAAAACgw/r2EZ_8oYer4/s50-c-k-no/photo.jpg",
      "sessionId": "2f1ffade4c9f20de",
      "userId": "102167687554210253930"
     },
     "user_tz": 420
    },
    "id": "o_e0D_UezcDe",
    "outputId": "df22e4a5-e8ec-4e5e-d384-c6cf37c68c34"
   },
   "outputs": [],
   "source": [
    "def plot(embeddings, labels):\n",
    "  assert embeddings.shape[0] >= len(labels), 'More labels than embeddings'\n",
    "  pylab.figure(figsize=(15,15))  # in inches\n",
    "  for i, label in enumerate(labels):\n",
    "    x, y = embeddings[i,:]\n",
    "    pylab.scatter(x, y)\n",
    "    pylab.annotate(label, xy=(x, y), xytext=(5, 2), textcoords='offset points',\n",
    "                   ha='right', va='bottom')\n",
    "  pylab.show()\n",
    "\n",
    "words = [reverse_dictionary[i] for i in range(1, num_points+1)]\n",
    "plot(two_d_embeddings, words)"
   ]
  },
  {
   "cell_type": "markdown",
   "metadata": {
    "colab_type": "text",
    "id": "QB5EFrBnpNnc"
   },
   "source": [
    "---\n",
    "\n",
    "Problem\n",
    "-------\n",
    "\n",
    "An alternative to skip-gram is another Word2Vec model called [CBOW](http://arxiv.org/abs/1301.3781) (Continuous Bag of Words). In the CBOW model, instead of predicting a context word from a word vector, you predict a word from the sum of all the word vectors in its context. Implement and evaluate a CBOW model trained on the text8 dataset.\n",
    "\n",
    "---"
   ]
  },
  {
   "cell_type": "code",
   "execution_count": 47,
   "metadata": {},
   "outputs": [
    {
     "name": "stdout",
     "output_type": "stream",
     "text": [
      "data: ['anarchism', 'originated', 'as', 'a', 'term', 'of', 'abuse', 'first']\n",
      "\n",
      "with num_skips = 2 and skip_window = 1:\n",
      "    batch: ['as', 'anarchism', 'originated', 'a', 'term', 'as', 'of', 'a']\n",
      "    labels: ['originated', 'originated', 'as', 'as', 'a', 'a', 'term', 'term']\n",
      "\n",
      "with num_skips = 4 and skip_window = 2:\n",
      "    batch: ['a', 'originated', 'term', 'anarchism', 'term', 'as', 'of', 'originated']\n",
      "    labels: ['as', 'as', 'as', 'as', 'a', 'a', 'a', 'a']\n"
     ]
    }
   ],
   "source": [
    "data_index = 0\n",
    "\n",
    "def generate_batch(batch_size, num_skips, skip_window):\n",
    "  global data_index\n",
    "  assert batch_size % num_skips == 0\n",
    "  assert num_skips <= 2 * skip_window\n",
    "  batch = np.ndarray(shape=(batch_size,1), dtype=np.int32)\n",
    "  labels = np.ndarray(shape=(batch_size), dtype=np.int32)\n",
    "  span = 2 * skip_window + 1 # [ skip_window target skip_window ]\n",
    "  buffer = collections.deque(maxlen=span)\n",
    "  for _ in range(span):\n",
    "    buffer.append(data[data_index])\n",
    "    data_index = (data_index + 1) % len(data)\n",
    "  for i in range(batch_size // num_skips):\n",
    "    target = skip_window  # target label at the center of the buffer\n",
    "    targets_to_avoid = [ skip_window ]\n",
    "    for j in range(num_skips):\n",
    "      while target in targets_to_avoid:\n",
    "        target = random.randint(0, span - 1)\n",
    "      targets_to_avoid.append(target)\n",
    "      labels[i * num_skips + j] = buffer[skip_window]\n",
    "      batch[i * num_skips + j, 0] = buffer[target]\n",
    "    buffer.append(data[data_index])\n",
    "    data_index = (data_index + 1) % len(data)\n",
    "  return batch, labels\n",
    "\n",
    "print('data:', [reverse_dictionary[di] for di in data[:8]])\n",
    "\n",
    "for num_skips, skip_window in [(2, 1), (4, 2)]:\n",
    "    data_index = 0\n",
    "    batch, labels = generate_batch(batch_size=8, num_skips=num_skips, skip_window=skip_window)\n",
    "    print('\\nwith num_skips = %d and skip_window = %d:' % (num_skips, skip_window))\n",
    "    print('    batch:', [reverse_dictionary[bi] for bi in batch.reshape(8)])\n",
    "    print('    labels:', [reverse_dictionary[li] for li in labels])"
   ]
  },
  {
   "cell_type": "code",
   "execution_count": 49,
   "metadata": {},
   "outputs": [],
   "source": [
    "dbatch_size = 128\n",
    "embedding_size = 128 # Dimension of the embedding vector.\n",
    "skip_window = 1 # How many words to consider left and right.\n",
    "num_skips = 2 # How many times to reuse an input to generate a label.\n",
    "# We pick a random validation set to sample nearest neighbors. here we limit the\n",
    "# validation samples to the words that have a low numeric ID, which by\n",
    "# construction are also the most frequent. \n",
    "valid_size = 16 # Random set of words to evaluate similarity on.\n",
    "valid_window = 100 # Only pick dev samples in the head of the distribution.\n",
    "valid_examples = np.array(random.sample(range(valid_window), valid_size))\n",
    "num_sampled = 64 # Number of negative examples to sample.\n",
    "\n",
    "graph = tf.Graph()\n",
    "\n",
    "with graph.as_default(), tf.device('/cpu:0'):\n",
    "\n",
    "  # Input data.\n",
    "  train_dataset = tf.placeholder(tf.int32, shape=[batch_size])\n",
    "  train_labels = tf.placeholder(tf.int32, shape=[batch_size, 1])\n",
    "  valid_dataset = tf.constant(valid_examples, dtype=tf.int32)\n",
    "  \n",
    "  # Variables.\n",
    "  embeddings = tf.Variable(tf.random_uniform([vocabulary_size, embedding_size], -1.0, 1.0)) \n",
    "  softmax_weights = tf.Variable(tf.truncated_normal([vocabulary_size, embedding_size], stddev=1.0 / math.sqrt(embedding_size)))\n",
    "  softmax_biases = tf.Variable(tf.zeros([vocabulary_size]))\n",
    "  \n",
    "  # Model.\n",
    "  # Look up embeddings for inputs.\n",
    "  embed = tf.nn.embedding_lookup(embeddings, train_dataset)\n",
    "  # Compute the softmax loss, using a sample of the negative labels each time.\n",
    "  loss = tf.reduce_mean(tf.nn.sampled_softmax_loss(weights=softmax_weights, biases=softmax_biases, inputs=embed, labels=train_labels, num_sampled=num_sampled, num_classes=vocabulary_size))\n",
    "\n",
    "  # Optimizer.\n",
    "  # Note: The optimizer will optimize the softmax_weights AND the embeddings.\n",
    "  # This is because the embeddings are defined as a variable quantity and the\n",
    "  # optimizer's `minimize` method will by default modify all variable quantities \n",
    "  # that contribute to the tensor it is passed.\n",
    "  # See docs on `tf.train.Optimizer.minimize()` for more details.\n",
    "  optimizer = tf.train.AdagradOptimizer(1.0).minimize(loss)\n",
    "  \n",
    "  # Compute the similarity between minibatch examples and all embeddings.\n",
    "  # We use the cosine distance:\n",
    "  norm = tf.sqrt(tf.reduce_sum(tf.square(embeddings), 1, keep_dims=True))\n",
    "  normalized_embeddings = embeddings / norm\n",
    "  valid_embeddings = tf.nn.embedding_lookup(normalized_embeddings, valid_dataset)\n",
    "  similarity = tf.matmul(valid_embeddings, tf.transpose(normalized_embeddings))"
   ]
  },
  {
   "cell_type": "code",
   "execution_count": 50,
   "metadata": {},
   "outputs": [
    {
     "name": "stdout",
     "output_type": "stream",
     "text": [
      "Initialized\n",
      "Average loss at step 0: 7.914479\n",
      "Nearest to had: convictions, midwest, guyanese, boutros, recant, illogical, materialize, accommodated,\n",
      "Nearest to which: ena, conciliar, cha, overcomes, detailing, oriole, smokeless, rendered,\n",
      "Nearest to three: bamberger, qatar, lusitania, paleozoic, clermont, mercantile, capricious, copland,\n",
      "Nearest to on: spoiling, name, lobbying, geodetic, mounds, scat, dimorphism, dorff,\n",
      "Nearest to the: inroads, merleau, miniseries, irritable, cheering, eagles, discipleship, relativistic,\n",
      "Nearest to seven: exited, cuailnge, confederation, double, rates, debra, tripled, indonesians,\n",
      "Nearest to has: synagogues, renaissance, undergraduates, porphyry, saarc, respectively, encouraged, j,\n",
      "Nearest to when: gettysburg, satisfied, latch, venter, percussion, orators, chiropractic, cear,\n",
      "Nearest to nine: liking, boer, blackmail, trajan, zonker, handbooks, emma, shelling,\n",
      "Nearest to s: otaku, gottes, pneumonia, fronts, college, birthright, hideous, phys,\n",
      "Nearest to system: spearheaded, shamanic, earl, garnered, lathe, downing, peugeot, unclaimed,\n",
      "Nearest to most: morale, triage, circularly, consummate, dachau, dcsd, wrongs, defeated,\n",
      "Nearest to not: gruesome, colbert, cdm, extolling, skis, pagerank, tungsten, silva,\n",
      "Nearest to also: trapdoor, interchangeable, knack, tolvaj, divergence, insulted, deceive, degrading,\n",
      "Nearest to was: zhou, sympathies, relocation, declining, collide, neighborhoods, cadre, amphisbaena,\n",
      "Nearest to while: kinetics, complained, phase, shivaji, situations, sup, weaver, cars,\n",
      "Average loss at step 2000: 6.321454\n",
      "Average loss at step 4000: 5.466053\n",
      "Average loss at step 6000: 5.127316\n",
      "Average loss at step 8000: 5.029512\n",
      "Average loss at step 10000: 4.701005\n",
      "Nearest to had: boarder, sectarian, gilberts, cellular, gambit, technik, portfolios, extensible,\n",
      "Nearest to which: maronites, lodgings, envisaged, freemason, gagauz, verbally, personhood, che,\n",
      "Nearest to three: seven, nine, eight, zero, five, two, cve, isbn,\n",
      "Nearest to on: carniola, dlp, reminds, deceptively, ambulance, crowley, lineman, cottingley,\n",
      "Nearest to the: his, stag, minded, a, unsolvable, it, undersecretary, setups,\n",
      "Nearest to seven: nine, eight, zero, three, one, five, isbn, ch,\n",
      "Nearest to has: activist, assimilate, thermodynamically, leaching, copernican, lighthearted, arundel, also,\n",
      "Nearest to when: who, novices, dnia, detectable, backwardness, estimating, generis, sufferer,\n",
      "Nearest to nine: zero, seven, eight, one, three, six, five, two,\n",
      "Nearest to s: notably, arisen, outstripped, float, lagoons, orchestrated, verona, pital,\n",
      "Nearest to system: spearheaded, gundam, clc, banach, liners, albright, viceroyalty, va,\n",
      "Nearest to most: vassal, flawed, supposed, funakoshi, mackaye, reveals, forwarded, saudi,\n",
      "Nearest to not: always, wikibook, bubble, grotto, marko, khad, hapless, benoit,\n",
      "Nearest to also: characters, budapest, dtv, has, richland, mrs, precinct, bequest,\n",
      "Nearest to was: pga, catharism, skylab, presocratic, mirc, cycled, jul, kafka,\n",
      "Nearest to while: dvorak, phagspa, lie, original, abdicates, stg, jen, thanked,\n",
      "Average loss at step 12000: 5.194391\n",
      "Average loss at step 14000: 4.976080\n",
      "Average loss at step 16000: 5.049015\n",
      "Average loss at step 18000: 4.641236\n",
      "Average loss at step 20000: 4.814794\n",
      "Nearest to had: indulgences, intervening, holistic, baja, colonels, southerners, after, marathas,\n",
      "Nearest to which: and, fortnight, flush, occupied, foote, abdulaziz, to, bethe,\n",
      "Nearest to three: one, nine, seven, four, eight, two, six, five,\n",
      "Nearest to on: of, and, spiked, marker, rolf, consecutive, purged, metroid,\n",
      "Nearest to the: a, states, of, one, an, his, this, berb,\n",
      "Nearest to seven: zero, four, six, eight, three, nine, five, cm,\n",
      "Nearest to has: that, bubbles, i, was, premium, codd, edited, in,\n",
      "Nearest to when: than, bronson, foundations, yf, kapitan, in, evaluated, aloof,\n",
      "Nearest to nine: one, eight, six, four, three, two, zero, seven,\n",
      "Nearest to s: of, corwin, syriac, a, states, liv, furry, toolkits,\n",
      "Nearest to system: banach, denominated, infrastructure, nai, cagliari, hilda, braque, guanine,\n",
      "Nearest to most: greve, gyro, minoan, processing, moveable, trichloride, seng, terminator,\n",
      "Nearest to not: kiki, t, by, mulatto, who, it, werke, moods,\n",
      "Nearest to also: welt, categorised, derived, stadt, bac, kellogg, ananda, brittle,\n",
      "Nearest to was: is, consumes, are, in, has, poincar, fraught, and,\n",
      "Nearest to while: pluralistic, bartender, civilised, ozzfest, aedui, dench, plains, dicots,\n",
      "Average loss at step 22000: 4.892384\n",
      "Average loss at step 24000: 4.702804\n",
      "Average loss at step 26000: 4.685409\n",
      "Average loss at step 28000: 4.568393\n",
      "Average loss at step 30000: 4.685476\n",
      "Nearest to had: resolutely, kelley, indulgences, asserted, commutes, compendium, chan, tei,\n",
      "Nearest to which: nigsberg, used, this, not, resignations, goodman, it, gayoom,\n",
      "Nearest to three: five, one, nine, two, six, zero, eight, bromine,\n",
      "Nearest to on: as, in, syriac, for, evenings, were, from, and,\n",
      "Nearest to the: a, s, many, and, his, kafka, this, an,\n",
      "Nearest to seven: one, zero, six, nine, two, eight, bland, ninety,\n",
      "Nearest to has: to, is, admirable, decibels, were, since, when, have,\n",
      "Nearest to when: middleweight, storied, in, has, telegraphy, that, forcible, garth,\n",
      "Nearest to nine: two, five, one, six, eight, seven, kilometres, three,\n",
      "Nearest to s: his, the, sydney, basket, circumcising, redskins, of, by,\n",
      "Nearest to system: badges, filling, presbyters, biloxi, seu, wonderful, imaging, thicker,\n",
      "Nearest to most: vr, josip, thrillers, sis, pundits, purchasers, pyrrhus, cracking,\n",
      "Nearest to not: i, you, to, which, she, marko, rttemberg, it,\n",
      "Nearest to also: annulment, tyne, mistaken, episcopal, mission, hunts, putty, maize,\n",
      "Nearest to was: were, upheaval, anarcho, after, in, granddaughter, to, is,\n",
      "Nearest to while: bikram, dune, nuisance, dissuade, weavers, crickets, adhesion, houghton,\n",
      "Average loss at step 32000: 4.434114\n",
      "Average loss at step 34000: 4.671348\n",
      "Average loss at step 36000: 4.635650\n",
      "Average loss at step 38000: 4.655448\n",
      "Average loss at step 40000: 4.742659\n",
      "Nearest to had: tolbert, initially, cares, pleasing, requires, were, venerate, parent,\n",
      "Nearest to which: it, all, not, usually, allein, occupiers, resignations, for,\n",
      "Nearest to three: four, two, seven, nine, six, eight, zero, five,\n",
      "Nearest to on: in, and, into, desolate, guant, thespis, decoders, was,\n",
      "Nearest to the: a, and, his, an, of, their, many, its,\n",
      "Nearest to seven: six, eight, four, three, two, five, nine, one,\n",
      "Nearest to has: is, have, not, conservatory, awarding, fairey, avalanches, autosomal,\n",
      "Nearest to when: however, pluperfect, ushered, storied, disbandment, if, singular, bounty,\n",
      "Nearest to nine: eight, three, four, six, five, seven, zero, two,\n",
      "Nearest to s: the, ulyanov, sydney, decca, slugging, lo, his, emcee,\n",
      "Nearest to system: automatic, nosferatu, optimism, dienes, furthermore, bars, govern, gts,\n",
      "Nearest to most: digital, shaykh, highlander, incriminating, uttered, summa, sod, schoolchildren,\n",
      "Nearest to not: to, who, that, which, watford, usually, it, has,\n",
      "Nearest to also: often, fidelity, is, ghz, but, emilia, azad, commonly,\n",
      "Nearest to was: is, and, by, in, anchovies, on, are, as,\n",
      "Nearest to while: freescale, tyrone, hugs, pentecost, qualified, metropolitan, simile, angles,\n",
      "Average loss at step 42000: 4.594454\n",
      "Average loss at step 44000: 4.465240\n",
      "Average loss at step 46000: 4.483481\n",
      "Average loss at step 48000: 4.537883\n",
      "Average loss at step 50000: 4.784816\n",
      "Nearest to had: has, roslin, is, flares, tolbert, been, have, skew,\n",
      "Nearest to which: rie, awards, the, that, jill, amerindians, majesty, mauser,\n",
      "Nearest to three: six, eight, seven, one, nine, five, zero, four,\n",
      "Nearest to on: in, and, with, as, leveraged, sx, indictees, garments,\n",
      "Nearest to the: his, a, and, an, their, this, one, which,\n",
      "Nearest to seven: eight, zero, four, six, nine, five, one, three,\n",
      "Nearest to has: had, are, is, was, have, ltv, were, implanted,\n",
      "Nearest to when: have, johansson, narratives, inversion, navigate, disneyland, humanoids, bridles,\n",
      "Nearest to nine: zero, eight, four, seven, six, five, three, two,\n",
      "Nearest to s: aisles, doublespeak, kemerovo, but, discarded, UNK, trained, is,\n",
      "Nearest to system: fulfillment, automatic, scopes, hoosier, sensors, nara, hotter, demonstrative,\n",
      "Nearest to most: pinker, which, mer, portugu, crossroads, proletarian, stratospheric, slingshot,\n",
      "Nearest to not: never, have, they, miniature, trygve, logograms, bmj, requires,\n",
      "Nearest to also: supplementary, often, allocated, nausica, tributaries, maneuverability, hoboken, dharmas,\n",
      "Nearest to was: is, that, are, have, has, in, and, by,\n",
      "Nearest to while: sans, vases, tyrone, yolk, christchurch, parlance, hernandez, centrally,\n"
     ]
    },
    {
     "name": "stdout",
     "output_type": "stream",
     "text": [
      "Average loss at step 52000: 4.540601\n",
      "Average loss at step 54000: 4.558546\n",
      "Average loss at step 56000: 4.611691\n",
      "Average loss at step 58000: 4.534905\n",
      "Average loss at step 60000: 4.494264\n",
      "Nearest to had: has, is, mrs, when, mattered, elamite, have, skimmed,\n",
      "Nearest to which: fourth, nepeta, saguinus, psychic, furies, marmoset, crying, balzac,\n",
      "Nearest to three: zero, seven, nine, six, one, two, four, eight,\n",
      "Nearest to on: in, with, tarawa, single, into, for, loki, during,\n",
      "Nearest to the: a, its, s, of, his, as, this, one,\n",
      "Nearest to seven: three, nine, six, zero, eight, two, four, one,\n",
      "Nearest to has: is, had, was, have, are, previously, when, taiping,\n",
      "Nearest to when: has, hellfire, is, as, had, are, cirencester, deianira,\n",
      "Nearest to nine: zero, seven, eight, three, six, five, two, four,\n",
      "Nearest to s: and, the, his, another, to, of, in, its,\n",
      "Nearest to system: coercive, slum, choice, normalcy, pacifists, fabricius, revisionists, ingrained,\n",
      "Nearest to most: garand, bony, draconis, broader, surveyed, emulator, we, peasant,\n",
      "Nearest to not: he, never, shabda, still, it, laconic, derleth, vav,\n",
      "Nearest to also: supplementary, fairgrounds, cam, not, although, planes, anu, warship,\n",
      "Nearest to was: is, are, has, tolbert, have, as, goodnight, in,\n",
      "Nearest to while: daoism, stasis, raw, inns, at, busey, insecticide, imply,\n",
      "Average loss at step 62000: 4.514154\n",
      "Average loss at step 64000: 4.441306\n",
      "Average loss at step 66000: 4.341959\n",
      "Average loss at step 68000: 4.334348\n",
      "Average loss at step 70000: 4.460244\n",
      "Nearest to had: has, since, was, entailed, is, have, oddity, when,\n",
      "Nearest to which: also, it, tahiti, and, enumerable, he, often, this,\n",
      "Nearest to three: eight, five, nine, four, two, zero, seven, one,\n",
      "Nearest to on: to, from, by, in, during, misleadingly, for, hoe,\n",
      "Nearest to the: his, its, and, their, an, but, a, of,\n",
      "Nearest to seven: eight, five, six, zero, nine, one, three, two,\n",
      "Nearest to has: had, is, since, but, have, mint, marcia, mistakenly,\n",
      "Nearest to when: convention, collimated, spoofing, was, to, after, had, subdue,\n",
      "Nearest to nine: seven, eight, five, three, zero, sq, six, march,\n",
      "Nearest to s: and, to, of, UNK, at, was, dynamic, canyon,\n",
      "Nearest to system: prefixes, spanning, mummified, hypoglycemic, savile, jahan, deadly, demonstrative,\n",
      "Nearest to most: nested, bmx, guppy, headache, broader, modern, pliny, looming,\n",
      "Nearest to not: combine, hogan, sellers, you, unscr, follicle, he, generally,\n",
      "Nearest to also: which, consciously, they, fernando, be, often, what, summands,\n",
      "Nearest to was: is, fashionable, s, had, as, dallas, weren, when,\n",
      "Nearest to while: lectured, include, unopened, uniqueness, krzy, pi, amanda, daoism,\n",
      "Average loss at step 72000: 4.591756\n",
      "Average loss at step 74000: 4.470332\n",
      "Average loss at step 76000: 4.189201\n",
      "Average loss at step 78000: 4.149036\n",
      "Average loss at step 80000: 3.931180\n",
      "Nearest to had: have, has, was, stanzas, feminists, who, hamsters, been,\n",
      "Nearest to which: it, also, this, who, pkn, a, and, often,\n",
      "Nearest to three: seven, four, eight, six, nine, five, one, zero,\n",
      "Nearest to on: of, in, by, at, and, to, from, during,\n",
      "Nearest to the: a, their, and, this, his, of, s, which,\n",
      "Nearest to seven: nine, four, six, eight, zero, one, five, three,\n",
      "Nearest to has: although, pipe, since, must, is, are, had, was,\n",
      "Nearest to when: endpoint, to, was, microorganism, believing, sunrise, mined, ourselves,\n",
      "Nearest to nine: seven, four, eight, zero, six, five, three, one,\n",
      "Nearest to s: and, his, the, of, mania, war, ave, munition,\n",
      "Nearest to system: nosferatu, normalcy, heidegger, spawned, evas, clo, predynastic, tyrosine,\n",
      "Nearest to most: proofs, strongholds, swami, capacitive, eavesdropping, nominee, perkins, deleterious,\n",
      "Nearest to not: it, he, only, they, that, combine, you, also,\n",
      "Nearest to also: who, often, which, in, be, sometimes, is, by,\n",
      "Nearest to was: is, are, by, and, be, bijective, resonant, he,\n",
      "Nearest to while: commutative, pot, accusing, like, deny, visconti, oubangui, mauritian,\n",
      "Average loss at step 82000: 4.398600\n",
      "Average loss at step 84000: 4.315971\n",
      "Average loss at step 86000: 4.412877\n",
      "Average loss at step 88000: 4.265711\n",
      "Average loss at step 90000: 4.177117\n",
      "Nearest to had: has, was, have, are, they, were, is, and,\n",
      "Nearest to which: he, it, this, macy, could, cry, but, agrarianism,\n",
      "Nearest to three: seven, five, nine, eight, two, four, one, six,\n",
      "Nearest to on: and, by, in, through, with, of, is, became,\n",
      "Nearest to the: its, a, this, and, his, or, an, s,\n",
      "Nearest to seven: nine, one, eight, three, five, four, six, two,\n",
      "Nearest to has: have, had, although, was, were, having, is, but,\n",
      "Nearest to when: and, ideation, microorganism, until, freebsd, throwing, argues, were,\n",
      "Nearest to nine: eight, five, seven, three, zero, four, one, two,\n",
      "Nearest to s: was, four, the, its, and, this, five, two,\n",
      "Nearest to system: vigilant, davidson, nonaggression, systems, christa, mousse, admissible, nuance,\n",
      "Nearest to most: guppy, with, buddhists, coachella, zeta, eavesdropping, during, critiques,\n",
      "Nearest to not: also, there, who, they, generally, you, he, sellers,\n",
      "Nearest to also: not, inadvertently, respiration, it, generally, still, project, into,\n",
      "Nearest to was: had, is, are, s, has, became, have, were,\n",
      "Nearest to while: and, in, like, declares, canvas, until, subsisting, origen,\n",
      "Average loss at step 92000: 4.412564\n",
      "Average loss at step 94000: 4.377728\n",
      "Average loss at step 96000: 4.351816\n",
      "Average loss at step 98000: 4.483476\n",
      "Average loss at step 100000: 4.284978\n",
      "Nearest to had: was, have, were, when, has, amperes, entertaining, could,\n",
      "Nearest to which: ornaments, landscapes, retirement, narrowly, deserved, aniston, injecting, glagolitic,\n",
      "Nearest to three: five, nine, one, two, zero, four, seven, six,\n",
      "Nearest to on: in, of, through, with, under, when, first, surpass,\n",
      "Nearest to the: a, its, and, an, of, this, one, each,\n",
      "Nearest to seven: six, nine, eight, five, four, zero, three, one,\n",
      "Nearest to has: was, had, in, exercising, britain, have, were, as,\n",
      "Nearest to when: had, on, was, in, for, after, exercising, that,\n",
      "Nearest to nine: eight, seven, five, six, three, zero, four, two,\n",
      "Nearest to s: six, courtroom, the, at, or, four, five, seven,\n",
      "Nearest to system: systems, recruits, quijote, denslow, insignificant, grouped, falsificationism, signatories,\n",
      "Nearest to most: guppy, hyperion, masturbation, for, condemning, unquestionably, uta, discursive,\n",
      "Nearest to not: it, they, however, daikaiju, there, you, trygve, maximization,\n",
      "Nearest to also: summands, it, gnome, vesa, UNK, kaos, an, resentment,\n",
      "Nearest to was: is, are, were, had, has, as, when, or,\n",
      "Nearest to while: tightened, commemorated, since, lodi, wheat, to, stir, mel,\n"
     ]
    }
   ],
   "source": [
    "num_steps = 100001\n",
    "\n",
    "with tf.Session(graph=graph) as session:\n",
    "  tf.global_variables_initializer().run()\n",
    "  print('Initialized')\n",
    "  average_loss = 0\n",
    "  for step in range(num_steps):\n",
    "    batch_data, batch_labels = generate_batch(batch_size, num_skips, skip_window)\n",
    "    feed_dict = {train_dataset : batch_labels, train_labels : batch_data}\n",
    "    _, l = session.run([optimizer, loss], feed_dict=feed_dict)\n",
    "    average_loss += l\n",
    "    if step % 2000 == 0:\n",
    "      if step > 0:\n",
    "        average_loss = average_loss / 2000\n",
    "      # The average loss is an estimate of the loss over the last 2000 batches.\n",
    "      print('Average loss at step %d: %f' % (step, average_loss))\n",
    "      average_loss = 0\n",
    "    # note that this is expensive (~20% slowdown if computed every 500 steps)\n",
    "    if step % 10000 == 0:\n",
    "      sim = similarity.eval()\n",
    "      for i in range(valid_size):\n",
    "        valid_word = reverse_dictionary[valid_examples[i]]\n",
    "        top_k = 8 # number of nearest neighbors\n",
    "        nearest = (-sim[i, :]).argsort()[1:top_k+1]\n",
    "        log = 'Nearest to %s:' % valid_word\n",
    "        for k in range(top_k):\n",
    "          close_word = reverse_dictionary[nearest[k]]\n",
    "          log = '%s %s,' % (log, close_word)\n",
    "        print(log)\n",
    "  final_embeddings = normalized_embeddings.eval()"
   ]
  },
  {
   "cell_type": "code",
   "execution_count": 51,
   "metadata": {
    "collapsed": true
   },
   "outputs": [],
   "source": [
    "num_points = 400\n",
    "\n",
    "tsne = TSNE(perplexity=30, n_components=2, init='pca', n_iter=5000, method='exact')\n",
    "two_d_embeddings = tsne.fit_transform(final_embeddings[1:num_points+1, :])"
   ]
  },
  {
   "cell_type": "code",
   "execution_count": null,
   "metadata": {
    "collapsed": true
   },
   "outputs": [],
   "source": [
    "def plot(embeddings, labels):\n",
    "  assert embeddings.shape[0] >= len(labels), 'More labels than embeddings'\n",
    "  pylab.figure(figsize=(15,15))  # in inches\n",
    "  for i, label in enumerate(labels):\n",
    "    x, y = embeddings[i,:]\n",
    "    pylab.scatter(x, y)\n",
    "    pylab.annotate(label, xy=(x, y), xytext=(5, 2), textcoords='offset points',\n",
    "                   ha='right', va='bottom')\n",
    "  pylab.show()\n",
    "\n",
    "words = [reverse_dictionary[i] for i in range(1, num_points+1)]\n",
    "plot(two_d_embeddings, words)"
   ]
  }
 ],
 "metadata": {
  "colab": {
   "default_view": {},
   "name": "5_word2vec.ipynb",
   "provenance": [],
   "version": "0.3.2",
   "views": {}
  },
  "kernelspec": {
   "display_name": "Python 3",
   "language": "python",
   "name": "python3"
  },
  "language_info": {
   "codemirror_mode": {
    "name": "ipython",
    "version": 3
   },
   "file_extension": ".py",
   "mimetype": "text/x-python",
   "name": "python",
   "nbconvert_exporter": "python",
   "pygments_lexer": "ipython3",
   "version": "3.6.1"
  }
 },
 "nbformat": 4,
 "nbformat_minor": 1
}
